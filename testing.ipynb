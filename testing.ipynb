{
 "cells": [
  {
   "cell_type": "code",
   "execution_count": 23,
   "metadata": {},
   "outputs": [
    {
     "data": {
      "text/html": [
       "<div>\n",
       "<style scoped>\n",
       "    .dataframe tbody tr th:only-of-type {\n",
       "        vertical-align: middle;\n",
       "    }\n",
       "\n",
       "    .dataframe tbody tr th {\n",
       "        vertical-align: top;\n",
       "    }\n",
       "\n",
       "    .dataframe thead th {\n",
       "        text-align: right;\n",
       "    }\n",
       "</style>\n",
       "<table border=\"1\" class=\"dataframe\">\n",
       "  <thead>\n",
       "    <tr style=\"text-align: right;\">\n",
       "      <th></th>\n",
       "      <th>id</th>\n",
       "      <th>name</th>\n",
       "      <th>genre</th>\n",
       "      <th>artists</th>\n",
       "      <th>album</th>\n",
       "      <th>popularity</th>\n",
       "      <th>duration_ms</th>\n",
       "      <th>explicit</th>\n",
       "    </tr>\n",
       "  </thead>\n",
       "  <tbody>\n",
       "    <tr>\n",
       "      <th>0</th>\n",
       "      <td>7kr3xZk4yb3YSZ4VFtg2Qt</td>\n",
       "      <td>Acoustic</td>\n",
       "      <td>acoustic</td>\n",
       "      <td>Billy Raffoul</td>\n",
       "      <td>1975</td>\n",
       "      <td>58</td>\n",
       "      <td>172199</td>\n",
       "      <td>False</td>\n",
       "    </tr>\n",
       "    <tr>\n",
       "      <th>1</th>\n",
       "      <td>1kJygfS4eoVziBBI93MSYp</td>\n",
       "      <td>Acoustic</td>\n",
       "      <td>acoustic</td>\n",
       "      <td>Billy Raffoul</td>\n",
       "      <td>A Few More Hours at YYZ</td>\n",
       "      <td>57</td>\n",
       "      <td>172202</td>\n",
       "      <td>False</td>\n",
       "    </tr>\n",
       "    <tr>\n",
       "      <th>2</th>\n",
       "      <td>6lynns69p4zTCRxmmiSY1x</td>\n",
       "      <td>Here Comes the Sun - Acoustic</td>\n",
       "      <td>acoustic</td>\n",
       "      <td>Molly Hocking, Bailey Rushlow</td>\n",
       "      <td>Here Comes the Sun (Acoustic)</td>\n",
       "      <td>42</td>\n",
       "      <td>144786</td>\n",
       "      <td>False</td>\n",
       "    </tr>\n",
       "    <tr>\n",
       "      <th>3</th>\n",
       "      <td>1RC9slv335IfLce5vt9KTW</td>\n",
       "      <td>Acoustic #3</td>\n",
       "      <td>acoustic</td>\n",
       "      <td>The Goo Goo Dolls</td>\n",
       "      <td>Dizzy up the Girl</td>\n",
       "      <td>46</td>\n",
       "      <td>116573</td>\n",
       "      <td>False</td>\n",
       "    </tr>\n",
       "    <tr>\n",
       "      <th>4</th>\n",
       "      <td>5o9L8xBuILoVjLECSBi7Vo</td>\n",
       "      <td>My Love Mine All Mine - Acoustic Instrumental</td>\n",
       "      <td>acoustic</td>\n",
       "      <td>Guus Dielissen, Casper Esmann</td>\n",
       "      <td>My Love Mine All Mine (Acoustic Instrumental)</td>\n",
       "      <td>33</td>\n",
       "      <td>133922</td>\n",
       "      <td>False</td>\n",
       "    </tr>\n",
       "  </tbody>\n",
       "</table>\n",
       "</div>"
      ],
      "text/plain": [
       "                       id                                           name  \\\n",
       "0  7kr3xZk4yb3YSZ4VFtg2Qt                                       Acoustic   \n",
       "1  1kJygfS4eoVziBBI93MSYp                                       Acoustic   \n",
       "2  6lynns69p4zTCRxmmiSY1x                  Here Comes the Sun - Acoustic   \n",
       "3  1RC9slv335IfLce5vt9KTW                                    Acoustic #3   \n",
       "4  5o9L8xBuILoVjLECSBi7Vo  My Love Mine All Mine - Acoustic Instrumental   \n",
       "\n",
       "      genre                        artists  \\\n",
       "0  acoustic                  Billy Raffoul   \n",
       "1  acoustic                  Billy Raffoul   \n",
       "2  acoustic  Molly Hocking, Bailey Rushlow   \n",
       "3  acoustic              The Goo Goo Dolls   \n",
       "4  acoustic  Guus Dielissen, Casper Esmann   \n",
       "\n",
       "                                           album  popularity  duration_ms  \\\n",
       "0                                           1975          58       172199   \n",
       "1                        A Few More Hours at YYZ          57       172202   \n",
       "2                  Here Comes the Sun (Acoustic)          42       144786   \n",
       "3                              Dizzy up the Girl          46       116573   \n",
       "4  My Love Mine All Mine (Acoustic Instrumental)          33       133922   \n",
       "\n",
       "   explicit  \n",
       "0     False  \n",
       "1     False  \n",
       "2     False  \n",
       "3     False  \n",
       "4     False  "
      ]
     },
     "execution_count": 23,
     "metadata": {},
     "output_type": "execute_result"
    }
   ],
   "source": [
    "import pandas as pd\n",
    "import matplotlib.pyplot as plt\n",
    "import seaborn as sns\n",
    "\n",
    "# Load the dataset\n",
    "data = pd.read_csv('data/spotify_tracks.csv')\n",
    "data.head()"
   ]
  },
  {
   "cell_type": "markdown",
   "metadata": {},
   "source": [
    "## Lets print columns names"
   ]
  },
  {
   "cell_type": "code",
   "execution_count": 3,
   "metadata": {},
   "outputs": [
    {
     "data": {
      "text/plain": [
       "Index(['id', 'name', 'genre', 'artists', 'album', 'popularity', 'duration_ms',\n",
       "       'explicit'],\n",
       "      dtype='object')"
      ]
     },
     "execution_count": 3,
     "metadata": {},
     "output_type": "execute_result"
    }
   ],
   "source": [
    "data.columns"
   ]
  },
  {
   "cell_type": "markdown",
   "metadata": {},
   "source": [
    "Based upon the column names in the dataset. I think, i have to create four sperate tables for my database\n",
    "1. Songs Table (id, name, popularity, duration_ms)\n",
    "2. Genres Table (id, genre)\n",
    "3. Artists Table (id, name)\n",
    "3. Albums Table (id, album)\n"
   ]
  },
  {
   "cell_type": "code",
   "execution_count": 19,
   "metadata": {},
   "outputs": [
    {
     "data": {
      "text/html": [
       "<div>\n",
       "<style scoped>\n",
       "    .dataframe tbody tr th:only-of-type {\n",
       "        vertical-align: middle;\n",
       "    }\n",
       "\n",
       "    .dataframe tbody tr th {\n",
       "        vertical-align: top;\n",
       "    }\n",
       "\n",
       "    .dataframe thead th {\n",
       "        text-align: right;\n",
       "    }\n",
       "</style>\n",
       "<table border=\"1\" class=\"dataframe\">\n",
       "  <thead>\n",
       "    <tr style=\"text-align: right;\">\n",
       "      <th></th>\n",
       "      <th>name</th>\n",
       "      <th>popularity</th>\n",
       "      <th>duration_ms</th>\n",
       "      <th>duration_sec</th>\n",
       "    </tr>\n",
       "  </thead>\n",
       "  <tbody>\n",
       "    <tr>\n",
       "      <th>0</th>\n",
       "      <td>Acoustic</td>\n",
       "      <td>58</td>\n",
       "      <td>172199</td>\n",
       "      <td>2.869983</td>\n",
       "    </tr>\n",
       "    <tr>\n",
       "      <th>1</th>\n",
       "      <td>Acoustic</td>\n",
       "      <td>57</td>\n",
       "      <td>172202</td>\n",
       "      <td>2.870033</td>\n",
       "    </tr>\n",
       "    <tr>\n",
       "      <th>2</th>\n",
       "      <td>Here Comes the Sun - Acoustic</td>\n",
       "      <td>42</td>\n",
       "      <td>144786</td>\n",
       "      <td>2.413100</td>\n",
       "    </tr>\n",
       "    <tr>\n",
       "      <th>3</th>\n",
       "      <td>Acoustic #3</td>\n",
       "      <td>46</td>\n",
       "      <td>116573</td>\n",
       "      <td>1.942883</td>\n",
       "    </tr>\n",
       "    <tr>\n",
       "      <th>4</th>\n",
       "      <td>My Love Mine All Mine - Acoustic Instrumental</td>\n",
       "      <td>33</td>\n",
       "      <td>133922</td>\n",
       "      <td>2.232033</td>\n",
       "    </tr>\n",
       "  </tbody>\n",
       "</table>\n",
       "</div>"
      ],
      "text/plain": [
       "                                            name  popularity  duration_ms  \\\n",
       "0                                       Acoustic          58       172199   \n",
       "1                                       Acoustic          57       172202   \n",
       "2                  Here Comes the Sun - Acoustic          42       144786   \n",
       "3                                    Acoustic #3          46       116573   \n",
       "4  My Love Mine All Mine - Acoustic Instrumental          33       133922   \n",
       "\n",
       "   duration_sec  \n",
       "0      2.869983  \n",
       "1      2.870033  \n",
       "2      2.413100  \n",
       "3      1.942883  \n",
       "4      2.232033  "
      ]
     },
     "execution_count": 19,
     "metadata": {},
     "output_type": "execute_result"
    }
   ],
   "source": [
    "# song table\n",
    "song_df = data[['name', 'popularity', 'duration_ms']].drop_duplicates(subset=['name','popularity','duration_ms']).reset_index(drop=True)\n",
    "song_df['duration_sec'] = song_df['duration_ms'].apply(lambda x: x/(1000*60))\n",
    "song_df.head()"
   ]
  },
  {
   "cell_type": "code",
   "execution_count": 28,
   "metadata": {},
   "outputs": [
    {
     "data": {
      "text/plain": [
       "(0.0, 15.0)"
      ]
     },
     "execution_count": 28,
     "metadata": {},
     "output_type": "execute_result"
    },
    {
     "data": {
      "image/png": "[encoded data removed]",
      "text/plain": [
       "<Figure size 640x480 with 1 Axes>"
      ]
     },
     "metadata": {},
     "output_type": "display_data"
    }
   ],
   "source": [
    "song_df.plot(x='popularity', y='duration_sec', kind='kde', title='Duration vs Popularity')\n",
    "plt.xlim(0, 15)"
   ]
  },
  {
   "cell_type": "code",
   "execution_count": 29,
   "metadata": {},
   "outputs": [
    {
     "name": "stderr",
     "output_type": "stream",
     "text": [
      "/home/zafrani/anaconda3/lib/python3.10/site-packages/seaborn/_oldcore.py:1119: FutureWarning: use_inf_as_na option is deprecated and will be removed in a future version. Convert inf values to NaN before operating instead.\n",
      "  with pd.option_context('mode.use_inf_as_na', True):\n",
      "/home/zafrani/anaconda3/lib/python3.10/site-packages/seaborn/_oldcore.py:1119: FutureWarning: use_inf_as_na option is deprecated and will be removed in a future version. Convert inf values to NaN before operating instead.\n",
      "  with pd.option_context('mode.use_inf_as_na', True):\n"
     ]
    },
    {
     "data": {
      "image/png": "[encoded data removed]",
      "text/plain": [
       "<Figure size 640x480 with 1 Axes>"
      ]
     },
     "metadata": {},
     "output_type": "display_data"
    }
   ],
   "source": [
    "sns.kdeplot(x=song_df['duration_sec'], y=song_df['popularity'], fill=True)\n",
    "plt.xlim(0, 15)\n",
    "plt.title('Duration vs Popularity')\n",
    "plt.xlabel('Popularity')\n",
    "plt.ylabel('Duration (sec)')\n",
    "plt.show()"
   ]
  },
  {
   "cell_type": "code",
   "execution_count": 14,
   "metadata": {},
   "outputs": [
    {
     "data": {
      "text/plain": [
       "genre      \n",
       "acoustic       1\n",
       "afrobeat       1\n",
       "alt-rock       1\n",
       "alternative    1\n",
       "ambient        1\n",
       "              ..\n",
       "trance         1\n",
       "trip-hop       1\n",
       "turkish        1\n",
       "work-out       1\n",
       "world-music    1\n",
       "Name: count, Length: 126, dtype: int64"
      ]
     },
     "execution_count": 14,
     "metadata": {},
     "output_type": "execute_result"
    }
   ],
   "source": [
    "# genre table\n",
    "genre_df = data[['genre']].drop_duplicates().reset_index(drop=True)\n",
    "genre_df.value_counts()"
   ]
  },
  {
   "cell_type": "code",
   "execution_count": 9,
   "metadata": {},
   "outputs": [
    {
     "data": {
      "text/html": [
       "<div>\n",
       "<style scoped>\n",
       "    .dataframe tbody tr th:only-of-type {\n",
       "        vertical-align: middle;\n",
       "    }\n",
       "\n",
       "    .dataframe tbody tr th {\n",
       "        vertical-align: top;\n",
       "    }\n",
       "\n",
       "    .dataframe thead th {\n",
       "        text-align: right;\n",
       "    }\n",
       "</style>\n",
       "<table border=\"1\" class=\"dataframe\">\n",
       "  <thead>\n",
       "    <tr style=\"text-align: right;\">\n",
       "      <th></th>\n",
       "      <th>artists</th>\n",
       "    </tr>\n",
       "  </thead>\n",
       "  <tbody>\n",
       "    <tr>\n",
       "      <th>0</th>\n",
       "      <td>Billy Raffoul</td>\n",
       "    </tr>\n",
       "    <tr>\n",
       "      <th>1</th>\n",
       "      <td>Molly Hocking, Bailey Rushlow</td>\n",
       "    </tr>\n",
       "    <tr>\n",
       "      <th>2</th>\n",
       "      <td>The Goo Goo Dolls</td>\n",
       "    </tr>\n",
       "    <tr>\n",
       "      <th>3</th>\n",
       "      <td>Guus Dielissen, Casper Esmann</td>\n",
       "    </tr>\n",
       "    <tr>\n",
       "      <th>4</th>\n",
       "      <td>Ling tosite sigure</td>\n",
       "    </tr>\n",
       "  </tbody>\n",
       "</table>\n",
       "</div>"
      ],
      "text/plain": [
       "                         artists\n",
       "0                  Billy Raffoul\n",
       "1  Molly Hocking, Bailey Rushlow\n",
       "2              The Goo Goo Dolls\n",
       "3  Guus Dielissen, Casper Esmann\n",
       "4             Ling tosite sigure"
      ]
     },
     "execution_count": 9,
     "metadata": {},
     "output_type": "execute_result"
    }
   ],
   "source": [
    "# artist table\n",
    "artist_df = data[['artists']].drop_duplicates().reset_index(drop=True)\n",
    "artist_df.head()"
   ]
  },
  {
   "cell_type": "code",
   "execution_count": 10,
   "metadata": {},
   "outputs": [
    {
     "data": {
      "text/html": [
       "<div>\n",
       "<style scoped>\n",
       "    .dataframe tbody tr th:only-of-type {\n",
       "        vertical-align: middle;\n",
       "    }\n",
       "\n",
       "    .dataframe tbody tr th {\n",
       "        vertical-align: top;\n",
       "    }\n",
       "\n",
       "    .dataframe thead th {\n",
       "        text-align: right;\n",
       "    }\n",
       "</style>\n",
       "<table border=\"1\" class=\"dataframe\">\n",
       "  <thead>\n",
       "    <tr style=\"text-align: right;\">\n",
       "      <th></th>\n",
       "      <th>album</th>\n",
       "    </tr>\n",
       "  </thead>\n",
       "  <tbody>\n",
       "    <tr>\n",
       "      <th>0</th>\n",
       "      <td>1975</td>\n",
       "    </tr>\n",
       "    <tr>\n",
       "      <th>1</th>\n",
       "      <td>A Few More Hours at YYZ</td>\n",
       "    </tr>\n",
       "    <tr>\n",
       "      <th>2</th>\n",
       "      <td>Here Comes the Sun (Acoustic)</td>\n",
       "    </tr>\n",
       "    <tr>\n",
       "      <th>3</th>\n",
       "      <td>Dizzy up the Girl</td>\n",
       "    </tr>\n",
       "    <tr>\n",
       "      <th>4</th>\n",
       "      <td>My Love Mine All Mine (Acoustic Instrumental)</td>\n",
       "    </tr>\n",
       "  </tbody>\n",
       "</table>\n",
       "</div>"
      ],
      "text/plain": [
       "                                           album\n",
       "0                                           1975\n",
       "1                        A Few More Hours at YYZ\n",
       "2                  Here Comes the Sun (Acoustic)\n",
       "3                              Dizzy up the Girl\n",
       "4  My Love Mine All Mine (Acoustic Instrumental)"
      ]
     },
     "execution_count": 10,
     "metadata": {},
     "output_type": "execute_result"
    }
   ],
   "source": [
    "# album table\n",
    "album_df = data[['album']].drop_duplicates().reset_index(drop=True)\n",
    "album_df.head()"
   ]
  },
  {
   "cell_type": "code",
   "execution_count": null,
   "metadata": {},
   "outputs": [],
   "source": []
  }
 ],
 "metadata": {
  "kernelspec": {
   "display_name": "base",
   "language": "python",
   "name": "python3"
  },
  "language_info": {
   "codemirror_mode": {
    "name": "ipython",
    "version": 3
   },
   "file_extension": ".py",
   "mimetype": "text/x-python",
   "name": "python",
   "nbconvert_exporter": "python",
   "pygments_lexer": "ipython3",
   "version": "3.10.9"
  }
 },
 "nbformat": 4,
 "nbformat_minor": 2
}
